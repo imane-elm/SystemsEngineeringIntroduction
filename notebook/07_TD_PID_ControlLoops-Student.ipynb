{
  "cells": [
    {
      "cell_type": "markdown",
      "metadata": {
        "id": "7CH8Q8beqi1B"
      },
      "source": [
        "# PID digital controller: Python implementation"
      ]
    },
    {
      "cell_type": "markdown",
      "metadata": {
        "id": "hvRxxKoQqi1G"
      },
      "source": [
        "The aim of this tutorial is to implement temperature control on the TCLab board. The successive stages will be:\n",
        "- definition of the continuous PID corrector from the transfer function identified previously.\n",
        "- determining the maximum sampling time required to maintain a sufficient phase margin.\n",
        "- digitalisation of the corrector in the form of a recurrence equation.\n",
        "- analysis of real performances.\n",
        "\n",
        "## Requirements\n",
        "\n",
        "> **Exercice:** Complete the requirements for the temperature control in the following table.\n",
        "\n",
        "| Requirement | Assessment Criteria  | Level |  \n",
        "| :-: | :-: | :-: |  \n",
        "Control the temperature at 35°C  | Temperature reference tracking | ?\n",
        " | Settling time at 5 % | ?    \n",
        " | Overshoot | ?   \n",
        " | Disturbance rejection | ?   "
      ]
    },
    {
      "cell_type": "code",
      "source": [
        "pip install control"
      ],
      "metadata": {
        "colab": {
          "base_uri": "https://localhost:8080/"
        },
        "id": "ZXnvFjCGzq6w",
        "outputId": "ad5f150a-3596-47a6-84e1-3a2b9d402938"
      },
      "execution_count": 17,
      "outputs": [
        {
          "output_type": "stream",
          "name": "stdout",
          "text": [
            "Collecting control\n",
            "  Downloading control-0.10.1-py3-none-any.whl.metadata (7.6 kB)\n",
            "Requirement already satisfied: numpy>=1.23 in /usr/local/lib/python3.11/dist-packages (from control) (2.0.2)\n",
            "Requirement already satisfied: scipy>=1.8 in /usr/local/lib/python3.11/dist-packages (from control) (1.15.2)\n",
            "Requirement already satisfied: matplotlib>=3.6 in /usr/local/lib/python3.11/dist-packages (from control) (3.10.0)\n",
            "Requirement already satisfied: contourpy>=1.0.1 in /usr/local/lib/python3.11/dist-packages (from matplotlib>=3.6->control) (1.3.2)\n",
            "Requirement already satisfied: cycler>=0.10 in /usr/local/lib/python3.11/dist-packages (from matplotlib>=3.6->control) (0.12.1)\n",
            "Requirement already satisfied: fonttools>=4.22.0 in /usr/local/lib/python3.11/dist-packages (from matplotlib>=3.6->control) (4.57.0)\n",
            "Requirement already satisfied: kiwisolver>=1.3.1 in /usr/local/lib/python3.11/dist-packages (from matplotlib>=3.6->control) (1.4.8)\n",
            "Requirement already satisfied: packaging>=20.0 in /usr/local/lib/python3.11/dist-packages (from matplotlib>=3.6->control) (24.2)\n",
            "Requirement already satisfied: pillow>=8 in /usr/local/lib/python3.11/dist-packages (from matplotlib>=3.6->control) (11.2.1)\n",
            "Requirement already satisfied: pyparsing>=2.3.1 in /usr/local/lib/python3.11/dist-packages (from matplotlib>=3.6->control) (3.2.3)\n",
            "Requirement already satisfied: python-dateutil>=2.7 in /usr/local/lib/python3.11/dist-packages (from matplotlib>=3.6->control) (2.9.0.post0)\n",
            "Requirement already satisfied: six>=1.5 in /usr/local/lib/python3.11/dist-packages (from python-dateutil>=2.7->matplotlib>=3.6->control) (1.17.0)\n",
            "Downloading control-0.10.1-py3-none-any.whl (549 kB)\n",
            "\u001b[?25l   \u001b[90m━━━━━━━━━━━━━━━━━━━━━━━━━━━━━━━━━━━━━━━━\u001b[0m \u001b[32m0.0/549.6 kB\u001b[0m \u001b[31m?\u001b[0m eta \u001b[36m-:--:--\u001b[0m\r\u001b[2K   \u001b[90m━━━━━━━━━━━━━━━━━━━━━━━━━━━━━━━━━━━━━━━━\u001b[0m \u001b[32m549.6/549.6 kB\u001b[0m \u001b[31m19.1 MB/s\u001b[0m eta \u001b[36m0:00:00\u001b[0m\n",
            "\u001b[?25hInstalling collected packages: control\n",
            "Successfully installed control-0.10.1\n"
          ]
        }
      ]
    },
    {
      "cell_type": "markdown",
      "metadata": {
        "id": "RMgNkT9Aqi1H"
      },
      "source": [
        "## Continuous controller\n",
        "\n",
        "### System transfer functions\n",
        "\n",
        "In previous work, we identified the transfer function linking the heating control (input) $Q_1$ to the temperature (output) $T_1$ as second order:\n",
        "\n",
        "$G_1(p) = \\frac{\\Delta T_1(p)}{Q_1(p)}=  \\frac{0.65}{(27p + 1)(160p + 1)} $\n",
        "\n",
        "with $\\Delta T_1$ expressing the relative difference between the sensor temperature and the ambient temperature (around 20°C).\n",
        "\n",
        "> **Question:** Approximate the transfer function $G_1(p)$ as a 1st order with pure delay.\n"
      ]
    },
    {
      "cell_type": "markdown",
      "metadata": {
        "id": "my5QBV0cqi1I"
      },
      "source": [
        "### Zielgler-Nichols method\n",
        "\n",
        "The Ziegler-Nichols approach to setting PID controllers can be used as an initial parameterisation. This approach is based on a transfer function of the form:\n",
        "$ G(s) = \\frac{Ke^{-Ls}}{\\tau s + 1} $ with $R=K/\\tau$\n",
        "with\n",
        "- $K$ : the steady-state gain;\n",
        "- $\\tau$ : the dominant time-constant;\n",
        "- $L$ : the pure time-delay.  \n",
        "\n",
        "The form (P, PI, PD or PID) of the PID controller can then be chosen according to the value of $\\tau$ compared\n",
        "to $L$ by using following table:\n",
        "\n",
        "| $\\frac{Time Constant}{Delay}=\\frac{\\tau}{L}$ | Best controller |\n",
        "| :-:  | :-:  |\n",
        " $\\frac{\\tau}{L} > 20 $ | On-Off controller\n",
        " $10 < \\frac{\\tau}{L} < 20 $ | P controller\n",
        " $5 < \\frac{\\tau}{L} < 10 $ | PI controller\n",
        " $2 < \\frac{\\tau}{L} < 5 $ | PID controller\n",
        "\n",
        "Then the following table defines the parameters of a P, PI or PID controller:\n",
        "$G_c(s)=k_p(1+\\frac{1}{\\tau_i s}+\\tau_d s)=k_p+\\frac{k_i}{s}+k_d s$\n",
        "\n",
        "| Type|$k_p$|$k_i$|$k_d$ |  \n",
        "| :-: | :-: | :-: | :-: |  \n",
        " P | $\\frac{1}{RL}$ | |   \n",
        " PI | $\\frac{0.9}{RL}$ |$\\frac{3}{10RL^2}$ |    \n",
        " PID | $\\frac{1.2}{RL}$ |$\\frac{0.6}{RL^2}$ | $\\frac{0.6}{R}$   \n"
      ]
    },
    {
      "cell_type": "markdown",
      "metadata": {
        "id": "4y3lKj9Cqi1I"
      },
      "source": [
        "> **Exercice:**  Select and calculate the corrector."
      ]
    },
    {
      "cell_type": "code",
      "execution_count": 8,
      "metadata": {
        "id": "c_-Qt2Ekqi1J"
      },
      "outputs": [],
      "source": [
        "%matplotlib inline\n",
        "\n",
        "import numpy as np\n",
        "import matplotlib.pyplot as plt\n",
        "\n",
        "# Ziegler Nichols input parameter\n",
        "tau = 160 # [s] time constant of the 1st order\n",
        "L= 27 # [s] delay\n",
        "K = 0.65 # [°/%] static gain\n",
        "\n",
        "R=K/tau\n",
        "\n",
        "# Controller type\n",
        "# PI"
      ]
    },
    {
      "cell_type": "code",
      "execution_count": 9,
      "metadata": {
        "colab": {
          "base_uri": "https://localhost:8080/"
        },
        "id": "YnHTBydMqi1L",
        "outputId": "fbc70a83-f83d-47b6-8d16-239d329019a1"
      },
      "outputs": [
        {
          "output_type": "stream",
          "name": "stdout",
          "text": [
            "PID coefficient (parrallel form): \n",
            "Kp = 7975.385\n",
            "Ki = 0.203\n",
            "Kd = 0.000\n"
          ]
        }
      ],
      "source": [
        "# controller coefficient with Ziegler Nichols approach\n",
        "\n",
        "# ??\n",
        "Kp=1.2/R*L\n",
        "Ki=0.6/(R*L**2)\n",
        "Kd=0\n",
        "PI=Kp+Ki\n",
        "\n",
        "\n",
        "print(\"PID coefficient (parrallel form): \")\n",
        "print(\"Kp = %.3f\"%Kp)\n",
        "print(\"Ki = %.3f\"%Ki)\n",
        "print(\"Kd = %.3f\"%Kd)"
      ]
    },
    {
      "cell_type": "markdown",
      "metadata": {
        "id": "uKTBUv_fqi1L"
      },
      "source": [
        "### Temporal performances\n",
        "\n",
        "> **Exercice:** Analyse the performance by simulation in terms of time: the following code should plot the time response $T_1$ to a 1° step order. It is also interesting to plot the power demand $Q_1$. You can use `tf`, `step` from `control.matlab` package.   "
      ]
    },
    {
      "cell_type": "code",
      "execution_count": 28,
      "metadata": {
        "colab": {
          "base_uri": "https://localhost:8080/",
          "height": 643
        },
        "id": "3Z6ZekDiqi1M",
        "outputId": "1dacb91f-6839-4ca3-ca1f-8a5a67d1445b"
      },
      "outputs": [
        {
          "output_type": "display_data",
          "data": {
            "text/plain": [
              "<Figure size 640x480 with 1 Axes>"
            ],
            "image/png": "[encoded data removed]"
          },
          "metadata": {}
        },
        {
          "output_type": "error",
          "ename": "NameError",
          "evalue": "name 'Q' is not defined",
          "traceback": [
            "\u001b[0;31m---------------------------------------------------------------------------\u001b[0m",
            "\u001b[0;31mNameError\u001b[0m                                 Traceback (most recent call last)",
            "\u001b[0;32m<ipython-input-28-96ff299346ec>\u001b[0m in \u001b[0;36m<cell line: 0>\u001b[0;34m()\u001b[0m\n\u001b[1;32m     21\u001b[0m \u001b[0mplt\u001b[0m\u001b[0;34m.\u001b[0m\u001b[0mshow\u001b[0m\u001b[0;34m(\u001b[0m\u001b[0;34m)\u001b[0m\u001b[0;34m\u001b[0m\u001b[0;34m\u001b[0m\u001b[0m\n\u001b[1;32m     22\u001b[0m \u001b[0;34m\u001b[0m\u001b[0m\n\u001b[0;32m---> 23\u001b[0;31m \u001b[0mplt\u001b[0m\u001b[0;34m.\u001b[0m\u001b[0mplot\u001b[0m\u001b[0;34m(\u001b[0m\u001b[0mt\u001b[0m\u001b[0;34m,\u001b[0m\u001b[0mQ\u001b[0m\u001b[0;34m,\u001b[0m \u001b[0;34m'r'\u001b[0m\u001b[0;34m)\u001b[0m\u001b[0;34m\u001b[0m\u001b[0;34m\u001b[0m\u001b[0m\n\u001b[0m\u001b[1;32m     24\u001b[0m \u001b[0mplt\u001b[0m\u001b[0;34m.\u001b[0m\u001b[0mxlabel\u001b[0m\u001b[0;34m(\u001b[0m\u001b[0;34m'Time (s)'\u001b[0m\u001b[0;34m)\u001b[0m\u001b[0;34m\u001b[0m\u001b[0;34m\u001b[0m\u001b[0m\n\u001b[1;32m     25\u001b[0m \u001b[0mplt\u001b[0m\u001b[0;34m.\u001b[0m\u001b[0mylabel\u001b[0m\u001b[0;34m(\u001b[0m\u001b[0;34m'Power (%) input'\u001b[0m\u001b[0;34m)\u001b[0m\u001b[0;34m\u001b[0m\u001b[0;34m\u001b[0m\u001b[0m\n",
            "\u001b[0;31mNameError\u001b[0m: name 'Q' is not defined"
          ]
        }
      ],
      "source": [
        "\n",
        "import control.matlab as control\n",
        "\n",
        "# system transfer function, based on second order model\n",
        "G1 = 0.65*control.tf([1],[27,1])*control.tf([1],[160,1])\n",
        "\n",
        "# controller and global model transfer functions\n",
        "\n",
        "PI = control.tf([Kp, Ki], [1, 0])\n",
        "\n",
        "# Step response of the closed loop\n",
        "t = np.linspace(0,400,1000)\n",
        "\n",
        "system_cl = control.feedback(PI * G1, 1)\n",
        "t, y = control.step(system_cl , t)\n",
        "\n",
        "# ??\n",
        "\n",
        "plt.plot(t,y, 'b', t,np.ones(1000),'g-')\n",
        "plt.xlabel('Time (s)')\n",
        "plt.ylabel('Output (t°C)')\n",
        "plt.show()\n",
        "\n",
        "plt.plot(t,Q, 'r')\n",
        "plt.xlabel('Time (s)')\n",
        "plt.ylabel('Power (%) input')\n",
        "plt.grid()\n",
        "plt.show()"
      ]
    },
    {
      "cell_type": "markdown",
      "metadata": {
        "id": "nG8TRgq6qi1N"
      },
      "source": [
        "### Frequency performances\n",
        "\n",
        "By plotting the Bode and Nichols diagrams in open or closed loops, we can establish the stability margins and the bandwidth.\n",
        "\n",
        "> **Exercice:** Analyse the frequency performances with Bode plots in open loop and closed loop. Adjust PID gains if necessary. Nichols diagram can be also usefull. You can use `bode` (with `margins=True` parameter), `nichols` from `control.matlab` package.   "
      ]
    },
    {
      "cell_type": "code",
      "execution_count": null,
      "metadata": {
        "id": "q1-Yqx6sqi1O"
      },
      "outputs": [],
      "source": [
        "# Bode diagram of open loops\n"
      ]
    },
    {
      "cell_type": "code",
      "execution_count": null,
      "metadata": {
        "id": "I6gnoAVnqi1O"
      },
      "outputs": [],
      "source": [
        "# Print phase and gain margins\n"
      ]
    },
    {
      "cell_type": "code",
      "execution_count": null,
      "metadata": {
        "id": "f54CpArZqi1O"
      },
      "outputs": [],
      "source": [
        "# Print Nichols diagram\n"
      ]
    },
    {
      "cell_type": "markdown",
      "metadata": {
        "id": "pqHZgbD2qi1P"
      },
      "source": [
        "### Optimal design of the controller\n",
        "\n",
        "> **Exercice:** Using the observations made, define an optimum design for the controller. This can be done using an optimisation algorithm such as `scipy.optimize.fmin_slsqp(func, x0, bounds, f_ieqcons)` from the `scipy` package where\n",
        ">- `func` is a function which return the objective to be minimised\n",
        ">- `f_ieqcons` is a function which return one or more constraints that must be positive in order to be respected.\n",
        ">- `x0` is the initial set of parameter (vector) for objective anc ocnstraints functions.\n"
      ]
    },
    {
      "cell_type": "code",
      "execution_count": null,
      "metadata": {
        "id": "LTaY_bniqi1P"
      },
      "outputs": [],
      "source": [
        "import scipy\n",
        "\n",
        "# Problem definition\n",
        "def optim_model(x, param):\n",
        "    Kp=x[0]\n",
        "    Ki=x[1]\n",
        "    Kd=0\n",
        "    # controller and global model transfer functions\n",
        "    # ??\n",
        "\n",
        "    #if (param=='constraints'):\n",
        "        # return [??]\n",
        "    #elif (param=='objective'):\n",
        "        # return ??\n",
        "\n",
        "# Initial point\n",
        "\n",
        "# InitPoint=np.array([??, ??])\n",
        "\n",
        "# bounds=[(min ?, max ?),\n",
        "#        (min ?, max ?)]\n",
        "\n",
        "\n",
        "# Resolution of the problem\n",
        "\n",
        "\n",
        "contrainte = lambda x: optim_model(x, \"constraints\")\n",
        "objectif = lambda x: optim_model(x, \"objective\")\n",
        "\n",
        "# result = scipy.optimize.fmin_slsqp(func=objectif,x0=InitPoint, bounds=bounds, f_ieqcons=contrainte)\n"
      ]
    },
    {
      "cell_type": "markdown",
      "metadata": {
        "id": "nCQvHoUuqi1P"
      },
      "source": [
        "## Digital controller"
      ]
    },
    {
      "cell_type": "markdown",
      "metadata": {
        "id": "Wjsw3OiCqi1Q"
      },
      "source": [
        " ### Definition of minimum sampling time\n",
        "\n",
        "> **Exercise:** Calculate the minimum sampling time required to avoid degrading the phase margin by more than 5°.  Check your result using Padé's approximation."
      ]
    },
    {
      "cell_type": "code",
      "execution_count": null,
      "metadata": {
        "id": "1j54-IInqi1Q",
        "outputId": "3d250881-ea63-4765-97c2-3e0eff4d9f93"
      },
      "outputs": [
        {
          "name": "stdout",
          "output_type": "stream",
          "text": [
            "Maximum sampling time: 1.00e+00 s\n"
          ]
        },
        {
          "data": {
            "text/plain": [
              "<matplotlib.legend.Legend at 0x21b1c8c06d0>"
            ]
          },
          "execution_count": 14,
          "metadata": {},
          "output_type": "execute_result"
        },
        {
          "data": {
            "text/plain": [
              "<Figure size 640x480 with 0 Axes>"
            ]
          },
          "metadata": {},
          "output_type": "display_data"
        },
        {
          "data": {
            "image/png": "[encoded data removed]",
            "text/plain": [
              "<Figure size 640x480 with 2 Axes>"
            ]
          },
          "metadata": {},
          "output_type": "display_data"
        }
      ],
      "source": [
        "# Phase = -delay.w = 5° where delay=Ts/2\n",
        "#gm, pm, wcg, wcp = control.margin(T)\n",
        "# T_s = ??\n",
        "T_s = 1 # To modify ?\n",
        "\n",
        "print(\"Maximum sampling time: %.2e s\"%T_s)\n",
        "\n",
        "delay=T_s/2\n",
        "\n",
        "num,den=control.pade(delay, 3)\n",
        "pade=control.tf(num,den)\n",
        "\n",
        "mag, phase, omega= control.bode(pade, plot=False, omega_limits=[1,2*3.14*.1], Hz=False)\n",
        "\n",
        "\n",
        "import matplotlib.pyplot as plt\n",
        "import numpy as np\n",
        "\n",
        "freq=omega/2/np.pi\n",
        "\n",
        "plt.tight_layout()\n",
        "fig, (ax1, ax2) = plt.subplots(2)    # get subplot axes\n",
        "\n",
        "plt.sca(ax1)                 # magnitude plot\n",
        "plt.plot(freq, [1]*len(omega),'r--', label='Exact')\n",
        "plt.plot(freq, mag,'b--', label='Pade')\n",
        "plt.ylabel('Gain')\n",
        "plt.legend()\n",
        "\n",
        "plt.sca(ax2)                 # phase plot\n",
        "plt.plot(freq,-delay*omega*180/np.pi,'r--', label='Exact')\n",
        "plt.plot(freq, phase*180/np.pi,'b--', label='Pade')\n",
        "plt.xlabel('Frequency (Hz)')\n",
        "plt.ylabel('Phase (°)')\n",
        "plt.legend()"
      ]
    },
    {
      "cell_type": "code",
      "execution_count": null,
      "metadata": {
        "id": "Ch3JOvryqi1R"
      },
      "outputs": [],
      "source": [
        "#PIDSysPade=T*pade\n",
        "#mag, phase, omega= control.bode(PIDSysPade, plot=True, Hz=True, initial_phase=0, margins=True)"
      ]
    },
    {
      "cell_type": "markdown",
      "metadata": {
        "id": "YfseOkovqi1S"
      },
      "source": [
        "## Digital PID controller\n",
        "\n",
        "### Recurrence equation  \n",
        "\n",
        "> **Question:** - Discretize the PID controller in the form of a recurrence equation.\n"
      ]
    },
    {
      "cell_type": "markdown",
      "metadata": {
        "id": "p1HQB8RYqi1S"
      },
      "source": [
        "> **Exercice:** Define a PID function which returns    \n",
        "> $o_k = o_{k-1} + K_i e_k T_s + K_p (e_k-e_{k-1}) +  \\frac{K_d}{T_s}(e_k+ e_{k-2}-2e_{k-1})$  \n",
        "> where $e_k$ is the error and $o_k$ the output of the controller. The `global` keyword defines variables which belongs to the global scope."
      ]
    },
    {
      "cell_type": "code",
      "execution_count": null,
      "metadata": {
        "id": "LFh-zty3qi1S"
      },
      "outputs": [],
      "source": [
        "\n",
        "def PID(order, measure):\n",
        "    #global ??\n",
        "\n",
        "    return max(0, min(100, o_k))"
      ]
    },
    {
      "cell_type": "markdown",
      "metadata": {
        "id": "cDJMQve8qi1T"
      },
      "source": [
        "### Real tests\n",
        "\n",
        "The following cells can be used to test your controller.\n",
        "The first step is to check that your card is responding correctly."
      ]
    },
    {
      "cell_type": "code",
      "execution_count": null,
      "metadata": {
        "id": "xpplq9O5qi1T",
        "outputId": "31ee47e5-c27c-4757-caa5-d67dcf0fa91f"
      },
      "outputs": [
        {
          "name": "stdout",
          "output_type": "stream",
          "text": [
            "TCLab version 1.0.0\n",
            "Arduino Leonardo connected on port COM10 at 115200 baud.\n",
            "TCLab Firmware 2.0.1 Arduino Leonardo/Micro.\n"
          ]
        }
      ],
      "source": [
        "%matplotlib inline\n",
        "from tclab import TCLab\n",
        "\n",
        "# if no card you can use the simulator:\n",
        "# from tclab import TCLabModel as TCLab\n",
        "\n",
        "from tclab import clock # from tclab import clock\n",
        "\n",
        "# Start TCLab\n",
        "# lab = TCLab()\n"
      ]
    },
    {
      "cell_type": "code",
      "execution_count": null,
      "metadata": {
        "id": "0jVP3qqJqi1T"
      },
      "outputs": [],
      "source": [
        "tperiod = 20\n",
        "tstep = 1\n",
        "\n",
        "#lab.Q1(100)\n",
        "\n",
        "#for t in clock(tperiod,tstep):\n",
        "#    print(\"Time %4.1f sec. : Temp = %.2f\"%(t,lab.T1))\n",
        "\n",
        "#lab.Q1(0)"
      ]
    },
    {
      "cell_type": "markdown",
      "metadata": {
        "id": "BQiJeZh9qi1U"
      },
      "source": [
        "We will use a specific window to plot corrector results:  \n",
        "!pip install PySide6  \n",
        "!pip install PyQt6  \n",
        "  \n",
        "import PyQt6  \n",
        "import PySide6  "
      ]
    },
    {
      "cell_type": "markdown",
      "metadata": {
        "id": "DYDYrCG8qi1U"
      },
      "source": [
        "The following cell provides an initial implementation of PID control for heater T1.  "
      ]
    },
    {
      "cell_type": "code",
      "execution_count": null,
      "metadata": {
        "id": "HMlZKXVGqi1U"
      },
      "outputs": [],
      "source": [
        "print(\"Temperature 1: %0.2f °C\"%(lab.T1))\n",
        "print(\"Temperature 2: %0.2f °C\"%(lab.T2))\n",
        "\n",
        "import matplotlib.pyplot as plt\n",
        "import numpy as np\n",
        "\n",
        "time = []\n",
        "Q1 = []\n",
        "Kperror = []\n",
        "T1 = []\n",
        "\n",
        "Torder =35\n",
        "\n",
        "tfinal = 400\n",
        "tstep = T_s\n",
        "\n",
        "%matplotlib qt\n",
        "\n",
        "# Interactive mode\n",
        "plt.ion()   # ion => interactive on / ioff => interactive off\n",
        "plt.figure()\n",
        "plt.plot(time, T1,'b-', label='T1')\n",
        "plt.plot(time, Q1,'r-', label='Q1')\n",
        "plt.plot(time, np.ones(len(time))*Torder,'g-', label='Order')\n",
        "plt.xlabel('Time (s)')\n",
        "plt.ylabel('Temperature (°C) - Heating power /2 (%)')\n",
        "plt.legend()\n",
        "plt.show(block=False)\n",
        "\n",
        "for t in clock(tfinal, tstep):\n",
        "    Tmes=lab.T1\n",
        "    Q = PID(Torder, Tmes)\n",
        "    lab.Q1(Q)\n",
        "    time = time + [t]\n",
        "    T1 = T1 + [Tmes]\n",
        "    Q1 = Q1 + [Q]\n",
        "\n",
        "    Title='T1 = %.1f °C - Q1 = %.1f'%(Tmes,Q)\n",
        "    plt.title(Title)\n",
        "    plt.plot(time, T1,'b-')\n",
        "    plt.plot(time, Q1,'y-')\n",
        "    plt.plot(time, np.ones(len(time))*Torder,'g-')\n",
        "    #plt.show(block=False)\n",
        "    plt.pause(0.05)\n",
        "\n",
        "\n",
        "plt.ioff()\n",
        "print(\"\\nTurn Heater Q1 Off\")\n",
        "lab.Q1(0)\n",
        "#lab.close()\n"
      ]
    },
    {
      "cell_type": "code",
      "execution_count": null,
      "metadata": {
        "id": "-uVe2OZ3qi1V"
      },
      "outputs": [],
      "source": [
        "print(\"\\nTurn Heater Q1 Off\")\n",
        "#lab.Q1(0)"
      ]
    },
    {
      "cell_type": "markdown",
      "metadata": {
        "id": "hwF_T1o8qi1V"
      },
      "source": [
        "Finally, you can display the temperature and power curves:"
      ]
    },
    {
      "cell_type": "markdown",
      "metadata": {
        "id": "2ZkUNnKiqi1V"
      },
      "source": [
        "```\n",
        "%matplotlib inline\n",
        "\n",
        "plt.ioff()  \n",
        "plt.plot(time, T1,'b-', label='T1')\n",
        "plt.plot(time, np.ones(len(time))*Torder,'g-', label='Order')\n",
        "plt.xlabel('Time (s)')\n",
        "plt.ylabel('Temperature (°C)')\n",
        "plt.legend()\n",
        "plt.show()\n",
        "\n",
        "plt.plot(time, Q1,'r-', label='Q1')\n",
        "plt.xlabel('Time (s)')\n",
        "plt.ylabel('Puissance de chauffe (%)')\n",
        "plt.legend()\n",
        "plt.show()\n",
        "```"
      ]
    },
    {
      "cell_type": "code",
      "execution_count": null,
      "metadata": {
        "id": "Rq23rncCqi1V"
      },
      "outputs": [],
      "source": []
    }
  ],
  "metadata": {
    "kernelspec": {
      "display_name": "Python 3 (ipykernel)",
      "language": "python",
      "name": "python3"
    },
    "language_info": {
      "codemirror_mode": {
        "name": "ipython",
        "version": 3
      },
      "file_extension": ".py",
      "mimetype": "text/x-python",
      "name": "python",
      "nbconvert_exporter": "python",
      "pygments_lexer": "ipython3",
      "version": "3.9.13"
    },
    "colab": {
      "provenance": []
    }
  },
  "nbformat": 4,
  "nbformat_minor": 0
}